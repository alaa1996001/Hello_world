{
  "nbformat": 4,
  "nbformat_minor": 0,
  "metadata": {
    "kernelspec": {
      "display_name": "Python 3",
      "language": "python",
      "name": "python3"
    },
    "language_info": {
      "codemirror_mode": {
        "name": "ipython",
        "version": 3
      },
      "file_extension": ".py",
      "mimetype": "text/x-python",
      "name": "python",
      "nbconvert_exporter": "python",
      "pygments_lexer": "ipython3",
      "version": "3.7.4"
    },
    "colab": {
      "name": "Copie de Fun with multithreading.ipynb",
      "provenance": [],
      "collapsed_sections": [],
      "include_colab_link": true
    }
  },
  "cells": [
    {
      "cell_type": "markdown",
      "metadata": {
        "id": "view-in-github",
        "colab_type": "text"
      },
      "source": [
        "<a href=\"https://colab.research.google.com/github/alaa1996001/Hello_world/blob/master/Copie_de_Fun_with_multithreading.ipynb\" target=\"_parent\"><img src=\"https://colab.research.google.com/assets/colab-badge.svg\" alt=\"Open In Colab\"/></a>"
      ]
    },
    {
      "cell_type": "markdown",
      "metadata": {
        "id": "PGxQlTxXo5y4",
        "colab_type": "text"
      },
      "source": [
        "# Threads Harmony"
      ]
    },
    {
      "cell_type": "markdown",
      "metadata": {
        "id": "22utpm3ko5y5",
        "colab_type": "text"
      },
      "source": [
        "### Packages to install"
      ]
    },
    {
      "cell_type": "code",
      "metadata": {
        "id": "Jt10lEp0o5y6",
        "colab_type": "code",
        "colab": {}
      },
      "source": [
        "!pip install --user --upgrade pillow\n",
        "!pip install --user --upgrade pydub\n",
        "!pip install --user --upgrade simpleaudio"
      ],
      "execution_count": null,
      "outputs": []
    },
    {
      "cell_type": "markdown",
      "metadata": {
        "id": "GUBaRqwwo5y9",
        "colab_type": "text"
      },
      "source": [
        "### Imports"
      ]
    },
    {
      "cell_type": "code",
      "metadata": {
        "id": "rRnlcVvYo5y9",
        "colab_type": "code",
        "colab": {}
      },
      "source": [
        "from pydub import AudioSegment\n",
        "from pydub.playback import play\n",
        "\n",
        "import threading\n",
        "import time"
      ],
      "execution_count": null,
      "outputs": []
    },
    {
      "cell_type": "markdown",
      "metadata": {
        "id": "QARy8C9xo5zA",
        "colab_type": "text"
      },
      "source": [
        "### Read & Play audio files"
      ]
    },
    {
      "cell_type": "code",
      "metadata": {
        "id": "4tOqRzPMo5zB",
        "colab_type": "code",
        "colab": {}
      },
      "source": [
        "# Change this variable to an actual mp3 file path\n",
        "MP3_PATH = \"test.mp3\"\n",
        "song = AudioSegment.from_mp3(MP3_PATH)\n",
        "play(song) # Interrupt to stop music"
      ],
      "execution_count": null,
      "outputs": []
    },
    {
      "cell_type": "markdown",
      "metadata": {
        "id": "QA43mGNgo5zD",
        "colab_type": "text"
      },
      "source": [
        "### Playing on several threads"
      ]
    },
    {
      "cell_type": "markdown",
      "metadata": {
        "id": "i1iy09Zro5zD",
        "colab_type": "text"
      },
      "source": [
        "###### Without a lock (No harmony)"
      ]
    },
    {
      "cell_type": "code",
      "metadata": {
        "id": "lBNn-Y8Oo5zE",
        "colab_type": "code",
        "colab": {}
      },
      "source": [
        "MP3_PATH = \"test.mp3\"\n",
        "song = AudioSegment.from_mp3(MP3_PATH)\n",
        "\n",
        "def play_alternated_segment(song,i):\n",
        "    while i*1000 < len(song):\n",
        "        segment = song[i*1000:(i+10)*1000] #Decomposing the audio in segments\n",
        "        i = i + 20\n",
        "        play(segment)\n",
        "    \n",
        "segment_1 = song[:10*1000]\n",
        "segment_2 = song[10*1000:20*1000]\n",
        "\n",
        "t1 = threading.Thread(target=play_alternated_segment, args=(song,0))\n",
        "t2 = threading.Thread(target=play_alternated_segment, args=(song,10))\n",
        "\n",
        "t1.start();t2.start()"
      ],
      "execution_count": null,
      "outputs": []
    },
    {
      "cell_type": "markdown",
      "metadata": {
        "id": "sfETWypSo5zH",
        "colab_type": "text"
      },
      "source": [
        "###### With a lock "
      ]
    },
    {
      "cell_type": "code",
      "metadata": {
        "id": "ZHsjB3AEo5zI",
        "colab_type": "code",
        "colab": {}
      },
      "source": [
        "MP3_PATH = \"test.mp3\"\n",
        "song = AudioSegment.from_mp3(MP3_PATH)\n",
        "lock = threading.RLock()\n",
        "\n",
        "def play_alternated_segment(song,i,has_lock):\n",
        "    if not has_lock:\n",
        "        time.sleep(1)\n",
        "    while i*1000 < len(song):\n",
        "        lock.acquire()\n",
        "        segment = song[i*1000:(i+10)*1000]\n",
        "        i = i + 20\n",
        "        play(segment)\n",
        "        lock.release()\n",
        "    \n",
        "segment_1 = song[:10*1000]\n",
        "segment_2 = song[10*1000:20*1000]\n",
        "\n",
        "t1 = threading.Thread(target=play_alternated_segment, args=(song,0,True))\n",
        "t2 = threading.Thread(target=play_alternated_segment, args=(song,10,False))\n",
        "\n",
        "t1.start();t2.start()"
      ],
      "execution_count": null,
      "outputs": []
    },
    {
      "cell_type": "markdown",
      "metadata": {
        "id": "kUeDWwgRo5zK",
        "colab_type": "text"
      },
      "source": [
        "### Rythming your multi threaded program"
      ]
    },
    {
      "cell_type": "markdown",
      "metadata": {
        "id": "x4RZHWuQo5zK",
        "colab_type": "text"
      },
      "source": [
        "Lets say that we have 2 building compagnies: A and B. They all have separate work schedules composed with simple tasks, that the compagny can achieve by itself, or a complex task, that can only be achieved by getting help from another compagny. Each task have a random duration between 1 and 5 seconds.\n",
        "If a compagny works on more than one task, it doubles the duration of all the current tasks it's working on."
      ]
    },
    {
      "cell_type": "code",
      "metadata": {
        "id": "gJpIV8NHo5zL",
        "colab_type": "code",
        "colab": {}
      },
      "source": [
        "import threading\n",
        "import random \n",
        "import time\n",
        "\n",
        "class Task(object):\n",
        "    def __init__(self,name,help_=None):\n",
        "        self.name = name\n",
        "        self.help = help_\n",
        "        self.doubled = False\n",
        "        self.duration = random.randint(1,5)\n",
        "        \n",
        "    def double_duration(self):\n",
        "        if not self.doubled:\n",
        "            self.duration = 2*self.duration; self.doubled = True\n",
        "            print(self.name+\" duration doubled\")\n",
        "            \n",
        "    def get_duration(self):\n",
        "        if self.doubled:\n",
        "            return self.duration/2\n",
        "        return self.duration\n",
        "            \n",
        "    def start(self):\n",
        "        self.time_start = time.time()\n",
        "        \n",
        "    def ended(self):\n",
        "        return time.time() > self.time_start+self.duration\n",
        "\n",
        "class Compagny(threading.Thread):\n",
        "    def __init__(self,name):\n",
        "        super(Compagny,self).__init__(daemon=True)\n",
        "        self.name = name\n",
        "        self.working_on = []\n",
        "        \n",
        "    def set_schedule(self,schedule):\n",
        "        self.schedule = schedule\n",
        "        \n",
        "    def work_on(self,task):\n",
        "        self.working_on.append(task)\n",
        "        task.start()\n",
        "        print(self.name+\" working on \"+task.name+\" (duration {}s)\".format(task.duration))\n",
        "        if len(self.working_on) > 1:\n",
        "            [task.double_duration() for task in self.working_on]\n",
        "        \n",
        "    def complete_task(self,task):\n",
        "        print(self.name+\" has completed \"+task.name)\n",
        "        self.working_on.remove(task)"
      ],
      "execution_count": null,
      "outputs": []
    },
    {
      "cell_type": "markdown",
      "metadata": {
        "id": "au2q9heeo5zN",
        "colab_type": "text"
      },
      "source": [
        "###### Without a lock "
      ]
    },
    {
      "cell_type": "code",
      "metadata": {
        "id": "pHSGWBvNo5zO",
        "colab_type": "code",
        "colab": {}
      },
      "source": [
        "class Compagny_without_a_lock(Compagny):\n",
        "    def run(self):\n",
        "        start_time= time.time()\n",
        "        for task in self.schedule:\n",
        "            if task.help is not None:\n",
        "                task.help.work_on(task)\n",
        "            self.work_on(task)\n",
        "            while len(self.working_on) > 0:\n",
        "                for tsk in self.working_on:\n",
        "                    if tsk.ended():\n",
        "                        self.complete_task(tsk)\n",
        "                time.sleep(0.1)\n",
        "        self.duration = time.time()-start_time "
      ],
      "execution_count": null,
      "outputs": []
    },
    {
      "cell_type": "markdown",
      "metadata": {
        "id": "tTppT05Mo5zQ",
        "colab_type": "text"
      },
      "source": [
        "SCENARIO 1A: No help is needed for any task"
      ]
    },
    {
      "cell_type": "code",
      "metadata": {
        "scrolled": true,
        "id": "RJVmIATTo5zQ",
        "colab_type": "code",
        "colab": {},
        "outputId": "9ac6b7b4-9a70-4232-d9e7-63f4a702b857"
      },
      "source": [
        "COMPAGNY_A_TASKS = [\n",
        "    Task(\"Project A\"),\n",
        "    Task(\"Project B\"),\n",
        "    Task(\"Project C\"),\n",
        "]\n",
        "COMPAGNY_B_TASKS = [\n",
        "    Task(\"Project D\"),\n",
        "    Task(\"Project E\"),\n",
        "    Task(\"Project F\"),\n",
        "]\n",
        "\n",
        "COMPAGNY_A = Compagny_without_a_lock(\"Compagny A\");COMPAGNY_A.set_schedule(COMPAGNY_A_TASKS);\n",
        "COMPAGNY_B = Compagny_without_a_lock(\"Compagny B\");COMPAGNY_B.set_schedule(COMPAGNY_B_TASKS);\n",
        "\n",
        "COMPAGNY_A.start();\n",
        "COMPAGNY_B.start();\n",
        "\n",
        "COMPAGNY_A.join()\n",
        "COMPAGNY_B.join()\n",
        "\n",
        "print('Compagny A minimum time possible: ',sum([task.get_duration() for task in COMPAGNY_A.schedule])+sum([task.get_duration() for task in COMPAGNY_B.schedule if task.help is COMPAGNY_A]))\n",
        "print('Compagny A actual working time: ',COMPAGNY_A.duration)\n",
        "print('Compagny B minimum time possible: ',sum([task.get_duration() for task in COMPAGNY_B.schedule])+sum([task.get_duration() for task in COMPAGNY_A.schedule if task.help is COMPAGNY_B]))\n",
        "print('Compagny B actual working time: ',COMPAGNY_B.duration)"
      ],
      "execution_count": null,
      "outputs": [
        {
          "output_type": "stream",
          "text": [
            "Compagny A working on Project A (duration 4s)\n",
            "Compagny B working on Project D (duration 2s)\n",
            "Compagny B has completed Project D\n",
            "Compagny B working on Project E (duration 3s)\n",
            "Compagny A has completed Project A\n",
            "Compagny A working on Project B (duration 3s)\n",
            "Compagny B has completed Project E\n",
            "Compagny B working on Project F (duration 1s)\n",
            "Compagny B has completed Project F\n",
            "Compagny A has completed Project B\n",
            "Compagny A working on Project C (duration 3s)\n",
            "Compagny A has completed Project C\n",
            "Compagny A minimum time possible:  10\n",
            "Compagny A actual working time:  10.515083312988281\n",
            "Compagny B minimum time possible:  6\n",
            "Compagny B actual working time:  6.433267831802368\n"
          ],
          "name": "stdout"
        }
      ]
    },
    {
      "cell_type": "markdown",
      "metadata": {
        "id": "CIRpqekio5zT",
        "colab_type": "text"
      },
      "source": [
        "SCENARIO 1B: Simple Schedule with some tasks that needs collaboration"
      ]
    },
    {
      "cell_type": "code",
      "metadata": {
        "scrolled": false,
        "id": "ZftEttOvo5zT",
        "colab_type": "code",
        "colab": {},
        "outputId": "ac02c750-656b-423c-8ff0-71012469991e"
      },
      "source": [
        "COMPAGNY_A = Compagny_without_a_lock(\"Compagny A\");\n",
        "COMPAGNY_B = Compagny_without_a_lock(\"Compagny B\");\n",
        "\n",
        "COMPAGNY_A_TASKS = [\n",
        "    Task(\"Project A\"),\n",
        "    Task(\"Project B\",help_=COMPAGNY_B),\n",
        "    Task(\"Project C\"),\n",
        "]\n",
        "COMPAGNY_B_TASKS = [\n",
        "    Task(\"Project D\"),\n",
        "    Task(\"Project E\"),\n",
        "    Task(\"Project F\",help_=COMPAGNY_A),\n",
        "]\n",
        "\n",
        "COMPAGNY_A.set_schedule(COMPAGNY_A_TASKS);\n",
        "COMPAGNY_B.set_schedule(COMPAGNY_B_TASKS);\n",
        "\n",
        "COMPAGNY_A.start();\n",
        "COMPAGNY_B.start();\n",
        "\n",
        "COMPAGNY_A.join()\n",
        "COMPAGNY_B.join()\n",
        "\n",
        "print('Compagny A minimum time possible: ',sum([task.get_duration() for task in COMPAGNY_A.schedule])+sum([task.get_duration() for task in COMPAGNY_B.schedule if task.help is COMPAGNY_A]))\n",
        "print('Compagny A actual working time: ',COMPAGNY_A.duration)\n",
        "print('Compagny B minimum time possible: ',sum([task.get_duration() for task in COMPAGNY_B.schedule])+sum([task.get_duration() for task in COMPAGNY_A.schedule if task.help is COMPAGNY_B]))\n",
        "print('Compagny B actual working time: ',COMPAGNY_B.duration)"
      ],
      "execution_count": null,
      "outputs": [
        {
          "output_type": "stream",
          "text": [
            "Compagny A working on Project A (duration 2s)\n",
            "Compagny B working on Project D (duration 4s)\n",
            "Compagny A has completed Project A\n",
            "Compagny B working on Project B (duration 1s)\n",
            "Project D duration doubled\n",
            "Project B duration doubled\n",
            "Compagny A working on Project B (duration 2s)\n",
            "Compagny B has completed Project B\n",
            "Compagny A has completed Project B\n",
            "Compagny A working on Project C (duration 5s)\n",
            "Compagny B has completed Project D\n",
            "Compagny B working on Project E (duration 3s)\n",
            "Compagny A has completed Project C\n",
            "Compagny B has completed Project E\n",
            "Compagny A working on Project F (duration 1s)\n",
            "Compagny B working on Project F (duration 1s)\n",
            "Compagny B has completed Project F\n",
            "Compagny A minimum time possible:  9.0\n",
            "Compagny A actual working time:  9.494514226913452\n",
            "Compagny B minimum time possible:  9.0\n",
            "Compagny B actual working time:  12.450134515762329\n"
          ],
          "name": "stdout"
        }
      ]
    },
    {
      "cell_type": "markdown",
      "metadata": {
        "id": "ITRS7NrPo5zW",
        "colab_type": "text"
      },
      "source": [
        "###### With a lock "
      ]
    },
    {
      "cell_type": "code",
      "metadata": {
        "id": "V7grPnIdo5zW",
        "colab_type": "code",
        "colab": {}
      },
      "source": [
        "class Compagny_with_a_lock(Compagny):\n",
        "    def __init__(self,name,lock):\n",
        "        super(Compagny_with_a_lock,self).__init__(name)\n",
        "        self.lock = lock\n",
        "        \n",
        "    def run(self):\n",
        "        self.time_waiting = 0\n",
        "        start_time= time.time()\n",
        "        copy = self.schedule[:]\n",
        "        while len(copy) > 0 or len(self.working_on) > 0:\n",
        "            while len(self.working_on) > 0:\n",
        "                for task in self.working_on:\n",
        "                    if task.ended():\n",
        "                        self.complete_task(task)\n",
        "                time.sleep(0.1)\n",
        "            try:\n",
        "                self.lock.release()\n",
        "            except:\n",
        "                pass\n",
        "            time.sleep(0.5) #Wait 0.5 to see if another compagny needs help\n",
        "            self.lock.acquire()\n",
        "            if len(self.working_on) == 0 and len(copy) > 0:\n",
        "                task = copy.pop(0)\n",
        "                if task.help is not None:\n",
        "                    tm = time.time()\n",
        "                    task.help.lock.acquire()\n",
        "                    self.time_waiting += (time.time()-tm)\n",
        "                    task.help.work_on(task)\n",
        "                    task.help.lock.release()\n",
        "                self.work_on(task)\n",
        "        try:\n",
        "            self.lock.release()\n",
        "        except:\n",
        "            pass\n",
        "        self.duration = time.time()-start_time "
      ],
      "execution_count": null,
      "outputs": []
    },
    {
      "cell_type": "markdown",
      "metadata": {
        "id": "8_ClKMyso5zY",
        "colab_type": "text"
      },
      "source": [
        "SCENARIO 2A: No help is needed for any task"
      ]
    },
    {
      "cell_type": "code",
      "metadata": {
        "scrolled": true,
        "id": "QmbG-4fgo5zZ",
        "colab_type": "code",
        "colab": {},
        "outputId": "14c5545e-d8c4-43f5-e132-168391f1f0a1"
      },
      "source": [
        "COMPAGNY_A_TASKS = [\n",
        "    Task(\"Project A\"),\n",
        "    Task(\"Project B\"),\n",
        "    Task(\"Project C\"),\n",
        "]\n",
        "COMPAGNY_B_TASKS = [\n",
        "    Task(\"Project D\"),\n",
        "    Task(\"Project E\"),\n",
        "    Task(\"Project F\"),\n",
        "]\n",
        "\n",
        "COMPAGNY_A = Compagny_with_a_lock(\"Compagny A\",threading.Lock());COMPAGNY_A.set_schedule(COMPAGNY_A_TASKS);\n",
        "COMPAGNY_B = Compagny_with_a_lock(\"Compagny B\",threading.Lock());COMPAGNY_B.set_schedule(COMPAGNY_B_TASKS);\n",
        "\n",
        "COMPAGNY_A.start();\n",
        "COMPAGNY_B.start();\n",
        "\n",
        "COMPAGNY_A.join()\n",
        "COMPAGNY_B.join()\n",
        "\n",
        "print('Compagny A minimum time possible: ',sum([task.get_duration() for task in COMPAGNY_A.schedule])+sum([task.get_duration() for task in COMPAGNY_B.schedule if task.help is COMPAGNY_A]))\n",
        "print('Compagny A working time: ',COMPAGNY_A.duration-COMPAGNY_A.time_waiting)\n",
        "print('Compagny A waiting time: ',COMPAGNY_A.time_waiting)\n",
        "print('Compagny A total time: ',COMPAGNY_A.duration)\n",
        "print('Compagny B minimum time possible: ',sum([task.get_duration() for task in COMPAGNY_B.schedule])+sum([task.get_duration() for task in COMPAGNY_A.schedule if task.help is COMPAGNY_B]))\n",
        "print('Compagny B working time: ',COMPAGNY_B.duration-COMPAGNY_B.time_waiting)\n",
        "print('Compagny B waiting time: ',COMPAGNY_B.time_waiting)\n",
        "print('Compagny B total time: ',COMPAGNY_B.duration)"
      ],
      "execution_count": null,
      "outputs": [
        {
          "output_type": "stream",
          "text": [
            "Compagny B working on Project D (duration 5s)Compagny A working on Project A (duration 3s)\n",
            "\n",
            "Compagny A has completed Project A\n",
            "Compagny A working on Project B (duration 2s)\n",
            "Compagny B has completed Project D\n",
            "Compagny A has completed Project BCompagny B working on Project E (duration 4s)\n",
            "\n",
            "Compagny A working on Project C (duration 2s)\n",
            "Compagny A has completed Project C\n",
            "Compagny B has completed Project E\n",
            "Compagny B working on Project F (duration 1s)\n",
            "Compagny B has completed Project F\n",
            "Compagny A minimum time possible:  7\n",
            "Compagny A working time:  9.475216388702393\n",
            "Compagny A waiting time:  0\n",
            "Compagny A total time:  9.475216388702393\n",
            "Compagny B minimum time possible:  10\n",
            "Compagny B working time:  12.650744438171387\n",
            "Compagny B waiting time:  0\n",
            "Compagny B total time:  12.650744438171387\n"
          ],
          "name": "stdout"
        }
      ]
    },
    {
      "cell_type": "markdown",
      "metadata": {
        "id": "iEuijDtno5zb",
        "colab_type": "text"
      },
      "source": [
        "SCENARIO 2B: Simple Schedule with some tasks that needs collaboration"
      ]
    },
    {
      "cell_type": "code",
      "metadata": {
        "scrolled": false,
        "id": "8Znx0V3go5zb",
        "colab_type": "code",
        "colab": {},
        "outputId": "faaa9f51-6ace-4ae2-b528-2e7efece4920"
      },
      "source": [
        "COMPAGNY_A = Compagny_with_a_lock(\"Compagny A\",threading.Lock());\n",
        "COMPAGNY_B = Compagny_with_a_lock(\"Compagny B\",threading.Lock());\n",
        "\n",
        "COMPAGNY_A_TASKS = [\n",
        "    Task(\"Project A\"),\n",
        "    Task(\"Project B\",help_=COMPAGNY_B),\n",
        "    Task(\"Project C\"),\n",
        "]\n",
        "COMPAGNY_B_TASKS = [\n",
        "    Task(\"Project D\"),\n",
        "    Task(\"Project E\"),\n",
        "    Task(\"Project F\",help_=COMPAGNY_A),\n",
        "]\n",
        "\n",
        "COMPAGNY_A.set_schedule(COMPAGNY_A_TASKS);\n",
        "COMPAGNY_B.set_schedule(COMPAGNY_B_TASKS);\n",
        "\n",
        "COMPAGNY_A.start();\n",
        "COMPAGNY_B.start();\n",
        "\n",
        "COMPAGNY_A.join()\n",
        "COMPAGNY_B.join()\n",
        "\n",
        "print('Compagny A minimum time possible: ',sum([task.get_duration() for task in COMPAGNY_A.schedule])+sum([task.get_duration() for task in COMPAGNY_B.schedule if task.help is COMPAGNY_A]))\n",
        "print('Compagny A working time: ',COMPAGNY_A.duration-COMPAGNY_A.time_waiting)\n",
        "print('Compagny A waiting time: ',COMPAGNY_A.time_waiting)\n",
        "print('Compagny A total time: ',COMPAGNY_A.duration)\n",
        "print('Compagny B minimum time possible: ',sum([task.get_duration() for task in COMPAGNY_B.schedule])+sum([task.get_duration() for task in COMPAGNY_A.schedule if task.help is COMPAGNY_B]))\n",
        "print('Compagny B working time: ',COMPAGNY_B.duration-COMPAGNY_B.time_waiting)\n",
        "print('Compagny B waiting time: ',COMPAGNY_B.time_waiting)\n",
        "print('Compagny B total time: ',COMPAGNY_B.duration)"
      ],
      "execution_count": null,
      "outputs": [
        {
          "output_type": "stream",
          "text": [
            "Compagny B working on Project D (duration 4s)\n",
            "Compagny A working on Project A (duration 5s)\n",
            "Compagny B has completed Project D\n",
            "Compagny B working on Project E (duration 4s)\n",
            "Compagny A has completed Project A\n",
            "Compagny B has completed Project E\n",
            "Compagny B working on Project B (duration 4s)\n",
            "Compagny A working on Project B (duration 4s)\n",
            "Compagny A has completed Project B\n",
            "Compagny B has completed Project B\n",
            "Compagny A working on Project C (duration 2s)\n",
            "Compagny A has completed Project C\n",
            "Compagny A working on Project F (duration 3s)\n",
            "Compagny B working on Project F (duration 3s)\n",
            "Compagny A has completed Project F\n",
            "Compagny B has completed Project F\n",
            "Compagny A minimum time possible:  14\n",
            "Compagny A working time:  16.681703805923462\n",
            "Compagny A waiting time:  3.125770092010498\n",
            "Compagny A total time:  19.80747389793396\n",
            "Compagny B minimum time possible:  15\n",
            "Compagny B working time:  17.70122003555298\n",
            "Compagny B waiting time:  2.1218717098236084\n",
            "Compagny B total time:  19.823091745376587\n"
          ],
          "name": "stdout"
        }
      ]
    },
    {
      "cell_type": "markdown",
      "metadata": {
        "id": "RR9GSXu4o5ze",
        "colab_type": "text"
      },
      "source": [
        "### Computing time loss per scenario"
      ]
    },
    {
      "cell_type": "markdown",
      "metadata": {
        "id": "2LqTXOzxo5ze",
        "colab_type": "text"
      },
      "source": [
        "#### Scenario 1B"
      ]
    },
    {
      "cell_type": "code",
      "metadata": {
        "scrolled": true,
        "id": "dve-ranto5ze",
        "colab_type": "code",
        "colab": {},
        "outputId": "43344570-8a64-4204-80eb-adb1247e4fc9"
      },
      "source": [
        "import numpy  as np\n",
        "\n",
        "time_losses = []\n",
        "time_losses_perc = []\n",
        "for i in range(0,10):\n",
        "    print('iteration',i,'\\n\\n')\n",
        "    COMPAGNY_A_TASKS = [\n",
        "        Task(\"Project A\"),\n",
        "        Task(\"Project B\"),\n",
        "        Task(\"Project C\"),\n",
        "    ]\n",
        "    COMPAGNY_B_TASKS = [\n",
        "        Task(\"Project D\"),\n",
        "        Task(\"Project E\"),\n",
        "        Task(\"Project F\"),\n",
        "    ]\n",
        "\n",
        "    COMPAGNY_A = Compagny_without_a_lock(\"Compagny A\");COMPAGNY_A.set_schedule(COMPAGNY_A_TASKS);\n",
        "    COMPAGNY_B = Compagny_without_a_lock(\"Compagny B\");COMPAGNY_B.set_schedule(COMPAGNY_B_TASKS);\n",
        "\n",
        "    COMPAGNY_A.start();\n",
        "    COMPAGNY_B.start();\n",
        "\n",
        "    COMPAGNY_A.join()\n",
        "    COMPAGNY_B.join()\n",
        "    \n",
        "    min_a = sum([task.get_duration() for task in COMPAGNY_A.schedule])+sum([task.get_duration() for task in COMPAGNY_B.schedule if task.help is COMPAGNY_A])\n",
        "    min_b = sum([task.get_duration() for task in COMPAGNY_B.schedule])+sum([task.get_duration() for task in COMPAGNY_A.schedule if task.help is COMPAGNY_B])\n",
        "    time_losses.append(COMPAGNY_A.duration-min_a)\n",
        "    time_losses.append(COMPAGNY_B.duration-min_b)\n",
        "    time_losses_perc.append(100*(COMPAGNY_A.duration/min_a))\n",
        "    time_losses_perc.append(100*(COMPAGNY_B.duration/min_b))\n",
        "    \n",
        "mean_loss = np.mean(time_losses)\n",
        "mean_loss_p = np.mean(time_losses_perc)\n",
        "print(\"Mean time lost: \",mean_loss,\"s\")\n",
        "print(\"Mean time spent: \",str(mean_loss_p)[:5],\"% of minimum time\")"
      ],
      "execution_count": null,
      "outputs": [
        {
          "output_type": "stream",
          "text": [
            "iteration 0 \n",
            "\n",
            "\n",
            "Compagny A working on Project A (duration 4s)\n",
            "Compagny B working on Project D (duration 1s)\n",
            "Compagny B has completed Project D\n",
            "Compagny B working on Project E (duration 2s)\n",
            "Compagny B has completed Project E\n",
            "Compagny B working on Project F (duration 5s)\n",
            "Compagny A has completed Project A\n",
            "Compagny A working on Project B (duration 5s)\n",
            "Compagny B has completed Project F\n",
            "Compagny A has completed Project B\n",
            "Compagny A working on Project C (duration 3s)\n",
            "Compagny A has completed Project C\n",
            "iteration 1 \n",
            "\n",
            "\n",
            "Compagny A working on Project A (duration 5s)\n",
            "Compagny B working on Project D (duration 2s)\n",
            "Compagny B has completed Project D\n",
            "Compagny B working on Project E (duration 5s)\n",
            "Compagny A has completed Project A\n",
            "Compagny A working on Project B (duration 4s)\n",
            "Compagny B has completed Project E\n",
            "Compagny B working on Project F (duration 5s)\n",
            "Compagny A has completed Project B\n",
            "Compagny A working on Project C (duration 2s)\n",
            "Compagny A has completed Project C\n",
            "Compagny B has completed Project F\n",
            "iteration 2 \n",
            "\n",
            "\n",
            "Compagny A working on Project A (duration 1s)\n",
            "Compagny B working on Project D (duration 5s)\n",
            "Compagny A has completed Project A\n",
            "Compagny A working on Project B (duration 3s)\n",
            "Compagny A has completed Project B\n",
            "Compagny A working on Project C (duration 2s)\n",
            "Compagny B has completed Project D\n",
            "Compagny B working on Project E (duration 4s)\n",
            "Compagny A has completed Project C\n",
            "Compagny B has completed Project E\n",
            "Compagny B working on Project F (duration 2s)\n",
            "Compagny B has completed Project F\n",
            "iteration 3 \n",
            "\n",
            "\n",
            "Compagny A working on Project A (duration 5s)\n",
            "Compagny B working on Project D (duration 4s)\n",
            "Compagny B has completed Project D\n",
            "Compagny B working on Project E (duration 1s)\n",
            "Compagny A has completed Project A\n",
            "Compagny A working on Project B (duration 2s)\n",
            "Compagny B has completed Project E\n",
            "Compagny B working on Project F (duration 3s)\n",
            "Compagny A has completed Project B\n",
            "Compagny A working on Project C (duration 3s)\n",
            "Compagny B has completed Project F\n",
            "Compagny A has completed Project C\n",
            "iteration 4 \n",
            "\n",
            "\n",
            "Compagny A working on Project A (duration 1s)\n",
            "Compagny B working on Project D (duration 1s)\n",
            "Compagny B has completed Project DCompagny A has completed Project A\n",
            "\n",
            "Compagny A working on Project B (duration 2s)\n",
            "Compagny B working on Project E (duration 2s)\n",
            "Compagny A has completed Project B\n",
            "Compagny B has completed Project E\n",
            "Compagny A working on Project C (duration 4s)\n",
            "Compagny B working on Project F (duration 2s)\n",
            "Compagny B has completed Project F\n",
            "Compagny A has completed Project C\n",
            "iteration 5 \n",
            "\n",
            "\n",
            "Compagny A working on Project A (duration 1s)\n",
            "Compagny B working on Project D (duration 1s)\n",
            "Compagny A has completed Project ACompagny B has completed Project D\n",
            "\n",
            "Compagny A working on Project B (duration 4s)Compagny B working on Project E (duration 5s)\n",
            "\n",
            "Compagny A has completed Project B\n",
            "Compagny A working on Project C (duration 1s)\n",
            "Compagny B has completed Project E\n",
            "Compagny B working on Project F (duration 3s)Compagny A has completed Project C\n",
            "\n",
            "Compagny B has completed Project F\n",
            "iteration 6 \n",
            "\n",
            "\n",
            "Compagny A working on Project A (duration 1s)\n",
            "Compagny B working on Project D (duration 1s)\n",
            "Compagny B has completed Project DCompagny A has completed Project A\n",
            "\n",
            "Compagny A working on Project B (duration 3s)Compagny B working on Project E (duration 2s)\n",
            "\n",
            "Compagny B has completed Project E\n",
            "Compagny B working on Project F (duration 4s)\n",
            "Compagny A has completed Project B\n",
            "Compagny A working on Project C (duration 3s)\n",
            "Compagny A has completed Project CCompagny B has completed Project F\n",
            "\n",
            "iteration 7 \n",
            "\n",
            "\n",
            "Compagny A working on Project A (duration 5s)\n",
            "Compagny B working on Project D (duration 5s)\n",
            "Compagny A has completed Project ACompagny B has completed Project D\n",
            "\n",
            "Compagny A working on Project B (duration 3s)Compagny B working on Project E (duration 5s)\n",
            "\n",
            "Compagny A has completed Project B\n",
            "Compagny A working on Project C (duration 2s)\n",
            "Compagny B has completed Project E\n",
            "Compagny B working on Project F (duration 1s)\n",
            "Compagny A has completed Project C\n",
            "Compagny B has completed Project F\n",
            "iteration 8 \n",
            "\n",
            "\n",
            "Compagny A working on Project A (duration 5s)\n",
            "Compagny B working on Project D (duration 4s)\n",
            "Compagny B has completed Project D\n",
            "Compagny B working on Project E (duration 3s)\n",
            "Compagny A has completed Project A\n",
            "Compagny A working on Project B (duration 5s)\n",
            "Compagny B has completed Project E\n",
            "Compagny B working on Project F (duration 2s)\n",
            "Compagny B has completed Project F\n",
            "Compagny A has completed Project B\n",
            "Compagny A working on Project C (duration 2s)\n",
            "Compagny A has completed Project C\n",
            "iteration 9 \n",
            "\n",
            "\n",
            "Compagny A working on Project A (duration 4s)\n",
            "Compagny B working on Project D (duration 1s)\n",
            "Compagny B has completed Project D\n",
            "Compagny B working on Project E (duration 1s)\n",
            "Compagny B has completed Project E\n",
            "Compagny B working on Project F (duration 2s)\n",
            "Compagny A has completed Project A\n",
            "Compagny A working on Project B (duration 1s)\n",
            "Compagny B has completed Project F\n",
            "Compagny A has completed Project B\n",
            "Compagny A working on Project C (duration 4s)\n",
            "Compagny A has completed Project C\n",
            "Mean time lost:  0.49372740983963015 s\n",
            "Mean time spent:  106.1 % of minimum time\n"
          ],
          "name": "stdout"
        }
      ]
    },
    {
      "cell_type": "markdown",
      "metadata": {
        "id": "EISrESF2o5zg",
        "colab_type": "text"
      },
      "source": [
        "#### Scenario 1B"
      ]
    },
    {
      "cell_type": "code",
      "metadata": {
        "id": "c1AoovTBo5zh",
        "colab_type": "code",
        "colab": {}
      },
      "source": [
        "import numpy  as np\n",
        "\n",
        "time_losses = []\n",
        "time_losses_perc = []\n",
        "for i in range(0,10):\n",
        "    print('iteration',i,'\\n\\n')\n",
        "    COMPAGNY_A = Compagny_without_a_lock(\"Compagny A\");\n",
        "    COMPAGNY_B = Compagny_without_a_lock(\"Compagny B\");\n",
        "\n",
        "    COMPAGNY_A_TASKS = [\n",
        "        Task(\"Project A\"),\n",
        "        Task(\"Project B\",help_=COMPAGNY_B),\n",
        "        Task(\"Project C\"),\n",
        "    ]\n",
        "    COMPAGNY_B_TASKS = [\n",
        "        Task(\"Project D\"),\n",
        "        Task(\"Project E\"),\n",
        "        Task(\"Project F\",help_=COMPAGNY_A),\n",
        "    ]\n",
        "\n",
        "    COMPAGNY_A.set_schedule(COMPAGNY_A_TASKS);\n",
        "    COMPAGNY_B.set_schedule(COMPAGNY_B_TASKS);\n",
        "\n",
        "    COMPAGNY_A.start();\n",
        "    COMPAGNY_B.start();\n",
        "\n",
        "    COMPAGNY_A.join()\n",
        "    COMPAGNY_B.join()\n",
        "    \n",
        "mean_loss = np.mean(time_losses)\n",
        "mean_loss_p = np.mean(time_losses_perc)\n",
        "print(\"Mean time lost: \",mean_loss,\"s\")\n",
        "print(\"Mean time spent: \",str(mean_loss_p)[:5],\"% of minimum time\")"
      ],
      "execution_count": null,
      "outputs": []
    },
    {
      "cell_type": "markdown",
      "metadata": {
        "id": "6O_Yn8fTo5zj",
        "colab_type": "text"
      },
      "source": [
        "#### Scenario 2A"
      ]
    },
    {
      "cell_type": "code",
      "metadata": {
        "id": "xbCSUqlco5zj",
        "colab_type": "code",
        "colab": {}
      },
      "source": [
        "import numpy  as np\n",
        "\n",
        "time_losses = []\n",
        "time_losses_perc = []\n",
        "for i in range(0,10):\n",
        "    print('iteration',i,'\\n\\n')\n",
        "    COMPAGNY_A = Compagny_with_a_lock(\"Compagny A\",threading.Lock());\n",
        "    COMPAGNY_B = Compagny_with_a_lock(\"Compagny B\",threading.Lock());\n",
        "\n",
        "    COMPAGNY_A_TASKS = [\n",
        "        Task(\"Project A\"),\n",
        "        Task(\"Project B\"),\n",
        "        Task(\"Project C\"),\n",
        "    ]\n",
        "    COMPAGNY_B_TASKS = [\n",
        "        Task(\"Project D\"),\n",
        "        Task(\"Project E\"),\n",
        "        Task(\"Project F\"),\n",
        "    ]\n",
        "\n",
        "    COMPAGNY_A.set_schedule(COMPAGNY_A_TASKS);\n",
        "    COMPAGNY_B.set_schedule(COMPAGNY_B_TASKS);\n",
        "\n",
        "    COMPAGNY_A.start();\n",
        "    COMPAGNY_B.start();\n",
        "\n",
        "    COMPAGNY_A.join()\n",
        "    COMPAGNY_B.join()\n",
        "    \n",
        "mean_loss = np.mean(time_losses)\n",
        "mean_loss_p = np.mean(time_losses_perc)\n",
        "print(\"Mean time lost: \",mean_loss,\"s\")\n",
        "print(\"Mean time spent: \",str(mean_loss_p)[:5],\"% of minimum time\")"
      ],
      "execution_count": null,
      "outputs": []
    },
    {
      "cell_type": "markdown",
      "metadata": {
        "id": "xP99d5zgo5zl",
        "colab_type": "text"
      },
      "source": [
        "#### Scenario 1B"
      ]
    },
    {
      "cell_type": "code",
      "metadata": {
        "id": "V45A8DcEo5zm",
        "colab_type": "code",
        "colab": {}
      },
      "source": [
        "import numpy  as np\n",
        "\n",
        "time_losses = []\n",
        "time_losses_perc = []\n",
        "for i in range(0,10):\n",
        "    print('iteration',i,'\\n\\n')\n",
        "    COMPAGNY_A = Compagny_with_a_lock(\"Compagny A\",threading.Lock());\n",
        "    COMPAGNY_B = Compagny_with_a_lock(\"Compagny B\",threading.Lock());\n",
        "\n",
        "    COMPAGNY_A_TASKS = [\n",
        "        Task(\"Project A\"),\n",
        "        Task(\"Project B\",help_=COMPAGNY_B),\n",
        "        Task(\"Project C\"),\n",
        "    ]\n",
        "    COMPAGNY_B_TASKS = [\n",
        "        Task(\"Project D\"),\n",
        "        Task(\"Project E\"),\n",
        "        Task(\"Project F\",help_=COMPAGNY_A),\n",
        "    ]\n",
        "\n",
        "    COMPAGNY_A.set_schedule(COMPAGNY_A_TASKS);\n",
        "    COMPAGNY_B.set_schedule(COMPAGNY_B_TASKS);\n",
        "\n",
        "    COMPAGNY_A.start();\n",
        "    COMPAGNY_B.start();\n",
        "\n",
        "    COMPAGNY_A.join()\n",
        "    COMPAGNY_B.join()\n",
        "    \n",
        "mean_loss = np.mean(time_losses)\n",
        "mean_loss_p = np.mean(time_losses_perc)\n",
        "print(\"Mean time lost: \",mean_loss,\"s\")\n",
        "print(\"Mean time spent: \",str(mean_loss_p)[:5],\"% of minimum time\")"
      ],
      "execution_count": null,
      "outputs": []
    },
    {
      "cell_type": "markdown",
      "metadata": {
        "id": "AonwYOBao5zn",
        "colab_type": "text"
      },
      "source": [
        "## Excercice"
      ]
    },
    {
      "cell_type": "markdown",
      "metadata": {
        "id": "ljeUGK19o5zo",
        "colab_type": "text"
      },
      "source": [
        "Figure out how to achieve synchronisation between compagnies using semaphores"
      ]
    },
    {
      "cell_type": "code",
      "metadata": {
        "id": "nR5p4Yfto5zo",
        "colab_type": "code",
        "colab": {}
      },
      "source": [
        ""
      ],
      "execution_count": null,
      "outputs": []
    }
  ]
}