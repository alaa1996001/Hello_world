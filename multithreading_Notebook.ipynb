{
  "nbformat": 4,
  "nbformat_minor": 0,
  "metadata": {
    "kernelspec": {
      "display_name": "Python 3",
      "language": "python",
      "name": "python3"
    },
    "language_info": {
      "codemirror_mode": {
        "name": "ipython",
        "version": 3
      },
      "file_extension": ".py",
      "mimetype": "text/x-python",
      "name": "python",
      "nbconvert_exporter": "python",
      "pygments_lexer": "ipython3",
      "version": "3.7.4"
    },
    "colab": {
      "name": "multithreading-Notebook.ipynb",
      "provenance": [],
      "include_colab_link": true
    }
  },
  "cells": [
    {
      "cell_type": "markdown",
      "metadata": {
        "id": "view-in-github",
        "colab_type": "text"
      },
      "source": [
        "<a href=\"https://colab.research.google.com/github/alaa1996001/Hello_world/blob/master/multithreading_Notebook.ipynb\" target=\"_parent\"><img src=\"https://colab.research.google.com/assets/colab-badge.svg\" alt=\"Open In Colab\"/></a>"
      ]
    },
    {
      "cell_type": "markdown",
      "metadata": {
        "id": "aXzuw5qiYBO7",
        "colab_type": "text"
      },
      "source": [
        "# Threads Harmony"
      ]
    },
    {
      "cell_type": "markdown",
      "metadata": {
        "id": "MsFotUiDYBO9",
        "colab_type": "text"
      },
      "source": [
        "Lets say that we have 2 building compagnies: A and B. They all have separate work schedules composed with simple tasks, that the Company can achieve by itself, or a complex task, that can only be achieved by getting help from another Company. Each task have a random duration between 1 and 5 seconds.\n",
        "If a Company works on more than one task, it doubles the duration of all the current tasks it's working on."
      ]
    },
    {
      "cell_type": "code",
      "metadata": {
        "id": "vi1581GUYBO9",
        "colab_type": "code",
        "colab": {}
      },
      "source": [
        "import threading\n",
        "import random \n",
        "import time\n",
        "\n",
        "class Task(object):\n",
        "    def __init__(self,name,help_=None):\n",
        "        self.name = name\n",
        "        self.help = help_\n",
        "        self.doubled = False\n",
        "        self.duration = random.randint(1,5)\n",
        "        \n",
        "    def double_duration(self):\n",
        "        if not self.doubled:\n",
        "            self.duration = 2*self.duration; self.doubled = True\n",
        "            print(self.name+\" duration doubled\")\n",
        "            \n",
        "    def get_duration(self):\n",
        "        if self.doubled:\n",
        "            return self.duration/2\n",
        "        return self.duration\n",
        "            \n",
        "    def start(self):\n",
        "        self.time_start = time.time()\n",
        "        \n",
        "    def ended(self):\n",
        "        return time.time() > self.time_start+self.duration\n",
        "\n",
        "class Company(threading.Thread):\n",
        "    def __init__(self,name):\n",
        "        super(Company,self).__init__(daemon=True)\n",
        "        self.name = name\n",
        "        self.working_on = []\n",
        "        \n",
        "    def set_schedule(self,schedule):\n",
        "        self.schedule = schedule\n",
        "        \n",
        "    def work_on(self,task):\n",
        "        self.working_on.append(task)\n",
        "        task.start()\n",
        "        print(self.name+\" working on \"+task.name+\" (duration {}s)\".format(task.duration))\n",
        "        if len(self.working_on) > 1:\n",
        "            [task.double_duration() for task in self.working_on]\n",
        "        \n",
        "    def complete_task(self,task):\n",
        "        print(self.name+\" has completed \"+task.name)\n",
        "        self.working_on.remove(task)"
      ],
      "execution_count": null,
      "outputs": []
    },
    {
      "cell_type": "markdown",
      "metadata": {
        "id": "BCMt0SGqYBPB",
        "colab_type": "text"
      },
      "source": [
        "###### Without a lock "
      ]
    },
    {
      "cell_type": "code",
      "metadata": {
        "id": "GcLtHEPfYBPC",
        "colab_type": "code",
        "colab": {}
      },
      "source": [
        "class Company_without_a_lock(C):\n",
        "    def run(self):\n",
        "        start_time= time.time()\n",
        "        for task in self.schedule:\n",
        "            if task.help is not None:\n",
        "                task.help.work_on(task)\n",
        "            self.work_on(task)\n",
        "            while len(self.working_on) > 0:\n",
        "                for tsk in self.working_on:\n",
        "                    if tsk.ended():\n",
        "                        self.complete_task(tsk)\n",
        "                time.sleep(0.1)\n",
        "        self.duration = time.time()-start_time "
      ],
      "execution_count": null,
      "outputs": []
    },
    {
      "cell_type": "markdown",
      "metadata": {
        "id": "miWTTLQmYBPE",
        "colab_type": "text"
      },
      "source": [
        "SCENARIO 1A: No help is needed for any task"
      ]
    },
    {
      "cell_type": "code",
      "metadata": {
        "scrolled": true,
        "id": "U-mDvTiFYBPF",
        "colab_type": "code",
        "colab": {},
        "outputId": "a8a4001c-8e06-4eaa-b8b8-e282a0623d97"
      },
      "source": [
        "Company_A_TASKS = [\n",
        "    Task(\"Project A\"),\n",
        "    Task(\"Project B\"),\n",
        "    Task(\"Project C\"),\n",
        "]\n",
        "Company_B_TASKS = [\n",
        "    Task(\"Project D\"),\n",
        "    Task(\"Project E\"),\n",
        "    Task(\"Project F\"),\n",
        "]\n",
        "\n",
        "Company_A = Company_without_a_lock(\"Company A\");Company_A.set_schedule(Company_A_TASKS);\n",
        "Company_B = Company_without_a_lock(\"Company B\");Company_B.set_schedule(Company_B_TASKS);\n",
        "\n",
        "Company_A.start();\n",
        "Company_B.start();\n",
        "\n",
        "Company_A.join()\n",
        "Company_B.join()\n",
        "\n",
        "print('Company A minimum time possible: ',sum([task.get_duration() for task in Company_A.schedule])+sum([task.get_duration() for task in Company_B.schedule if task.help is Company_A]))\n",
        "print('Company A actual working time: ',Company_A.duration)\n",
        "print('Company B minimum time possible: ',sum([task.get_duration() for task in Company_B.schedule])+sum([task.get_duration() for task in Company_A.schedule if task.help is Company_B]))\n",
        "print('Company B actual working time: ',Company_B.duration)"
      ],
      "execution_count": null,
      "outputs": [
        {
          "output_type": "stream",
          "text": [
            "Compagny A working on Project A (duration 3s)Compagny B working on Project D (duration 2s)\n",
            "\n",
            "Compagny B has completed Project D\n",
            "Compagny B working on Project E (duration 1s)\n",
            "Compagny A has completed Project A\n",
            "Compagny B has completed Project ECompagny A working on Project B (duration 1s)\n",
            "\n",
            "Compagny B working on Project F (duration 1s)\n",
            "Compagny A has completed Project B\n",
            "Compagny B has completed Project FCompagny A working on Project C (duration 1s)\n",
            "\n",
            "Compagny A has completed Project C\n",
            "Compagny A minimum time possible:  5\n",
            "Compagny A actual working time:  5.435757160186768\n",
            "Compagny B minimum time possible:  4\n",
            "Compagny B actual working time:  4.407822132110596\n"
          ],
          "name": "stdout"
        }
      ]
    },
    {
      "cell_type": "markdown",
      "metadata": {
        "id": "5JQ9fdYUYBPI",
        "colab_type": "text"
      },
      "source": [
        "SCENARIO 1B: Simple Schedule with some tasks that needs collaboration"
      ]
    },
    {
      "cell_type": "code",
      "metadata": {
        "scrolled": false,
        "id": "m8r_eVkdYBPJ",
        "colab_type": "code",
        "colab": {},
        "outputId": "db98f0f3-398e-4d2b-d6c1-0eb734ad194f"
      },
      "source": [
        "Company_A = Company_without_a_lock(\"Company A\");\n",
        "Company_B = Company_without_a_lock(\"Company B\");\n",
        "\n",
        "Company_A_TASKS = [\n",
        "    Task(\"Project A\"),\n",
        "    Task(\"Project B\",help_=Company_B),\n",
        "    Task(\"Project C\"),\n",
        "]\n",
        "Company_B_TASKS = [\n",
        "    Task(\"Project D\"),\n",
        "    Task(\"Project E\"),\n",
        "    Task(\"Project F\",help_=Company_A),\n",
        "]\n",
        "\n",
        "Company_A.set_schedule(Company_A_TASKS);\n",
        "Company_B.set_schedule(Company_B_TASKS);\n",
        "\n",
        "Company_A.start();\n",
        "Company_B.start();\n",
        "\n",
        "Company_A.join()\n",
        "Company_B.join()\n",
        "\n",
        "print('Company A minimum time possible: ',sum([task.get_duration() for task in Company_A.schedule])+sum([task.get_duration() for task in Company_B.schedule if task.help is Company_A]))\n",
        "print('Company A actual working time: ',Company_A.duration)\n",
        "print('Company B minimum time possible: ',sum([task.get_duration() for task in Company_B.schedule])+sum([task.get_duration() for task in Company_A.schedule if task.help is Company_B]))\n",
        "print('Company B actual working time: ',Company_B.duration)"
      ],
      "execution_count": null,
      "outputs": [
        {
          "output_type": "stream",
          "text": [
            "Compagny A working on Project A (duration 3s)Compagny B working on Project D (duration 2s)\n",
            "\n",
            "Compagny B has completed Project D\n",
            "Compagny B working on Project E (duration 5s)\n",
            "Compagny A has completed Project A\n",
            "Compagny B working on Project B (duration 4s)\n",
            "Project E duration doubled\n",
            "Project B duration doubled\n",
            "Compagny A working on Project B (duration 8s)\n",
            "Compagny A has completed Project BCompagny B has completed Project B\n",
            "\n",
            "Compagny A working on Project C (duration 1s)\n",
            "Compagny B has completed Project E\n",
            "Compagny A has completed Project CCompagny A working on Project F (duration 1s)\n",
            "\n",
            "Compagny B working on Project F (duration 1s)\n",
            "Compagny B has completed Project FCompagny A has completed Project F\n",
            "\n",
            "Compagny A minimum time possible:  9.0\n",
            "Compagny A actual working time:  13.499382019042969\n",
            "Compagny B minimum time possible:  12.0\n",
            "Compagny B actual working time:  13.499294996261597\n"
          ],
          "name": "stdout"
        }
      ]
    },
    {
      "cell_type": "markdown",
      "metadata": {
        "id": "zPMzKisFYBPL",
        "colab_type": "text"
      },
      "source": [
        "###### With a lock "
      ]
    },
    {
      "cell_type": "code",
      "metadata": {
        "id": "ci1HRvDDYBPM",
        "colab_type": "code",
        "colab": {}
      },
      "source": [
        "class Company_with_a_lock(Company):\n",
        "    def __init__(self,name,lock):\n",
        "        super(Company_with_a_lock,self).__init__(name)\n",
        "        self.lock = lock\n",
        "        \n",
        "    def run(self):\n",
        "        self.time_waiting = 0\n",
        "        start_time= time.time()\n",
        "        copy = self.schedule[:]\n",
        "        while len(copy) > 0 or len(self.working_on) > 0:\n",
        "            while len(self.working_on) > 0:\n",
        "                for task in self.working_on:\n",
        "                    if task.ended():\n",
        "                        self.complete_task(task)\n",
        "                time.sleep(0.1)\n",
        "            try:\n",
        "                self.lock.release()\n",
        "            except:\n",
        "                pass\n",
        "            time.sleep(0.5) #Wait 0.5 to see if another Company needs help\n",
        "            self.lock.acquire()\n",
        "            if len(self.working_on) == 0 and len(copy) > 0:\n",
        "                task = copy.pop(0)\n",
        "                if task.help is not None:\n",
        "                    tm = time.time()\n",
        "                    task.help.lock.acquire()\n",
        "                    self.time_waiting += (time.time()-tm)\n",
        "                    task.help.work_on(task)\n",
        "                    task.help.lock.release()\n",
        "                self.work_on(task)\n",
        "        try:\n",
        "            self.lock.release()\n",
        "        except:\n",
        "            pass\n",
        "        self.duration = time.time()-start_time "
      ],
      "execution_count": null,
      "outputs": []
    },
    {
      "cell_type": "markdown",
      "metadata": {
        "id": "DU7arDmpYBPO",
        "colab_type": "text"
      },
      "source": [
        "SCENARIO 2A: No help is needed for any task"
      ]
    },
    {
      "cell_type": "code",
      "metadata": {
        "scrolled": true,
        "id": "QYcr4xYfYBPP",
        "colab_type": "code",
        "colab": {},
        "outputId": "c2e7d61f-69dc-4126-f0d8-524d5709664c"
      },
      "source": [
        "Company_A_TASKS = [\n",
        "    Task(\"Project A\"),\n",
        "    Task(\"Project B\"),\n",
        "    Task(\"Project C\"),\n",
        "]\n",
        "Company_B_TASKS = [\n",
        "    Task(\"Project D\"),\n",
        "    Task(\"Project E\"),\n",
        "    Task(\"Project F\"),\n",
        "]\n",
        "\n",
        "Company_A = Company_with_a_lock(\"Company A\",threading.Lock());Company_A.set_schedule(Company_A_TASKS);\n",
        "Company_B = Company_with_a_lock(\"Company B\",threading.Lock());Company_B.set_schedule(Company_B_TASKS);\n",
        "\n",
        "Company_A.start();\n",
        "Company_B.start();\n",
        "\n",
        "Company_A.join()\n",
        "Company_B.join()\n",
        "\n",
        "print('Company A minimum time possible: ',sum([task.get_duration() for task in Company_A.schedule])+sum([task.get_duration() for task in Company_B.schedule if task.help is Company_A]))\n",
        "print('Company A working time: ',Company_A.duration-Company_A.time_waiting)\n",
        "print('Company A waiting time: ',Company_A.time_waiting)\n",
        "print('Company A total time: ',Company_A.duration)\n",
        "print('Company B minimum time possible: ',sum([task.get_duration() for task in Company_B.schedule])+sum([task.get_duration() for task in Company_A.schedule if task.help is Company_B]))\n",
        "print('Company B working time: ',Company_B.duration-Company_B.time_waiting)\n",
        "print('Company B waiting time: ',Company_B.time_waiting)\n",
        "print('Company B total time: ',Company_B.duration)"
      ],
      "execution_count": null,
      "outputs": [
        {
          "output_type": "stream",
          "text": [
            "Compagny A working on Project A (duration 5s)\n",
            "Compagny B working on Project D (duration 4s)\n",
            "Compagny B has completed Project D\n",
            "Compagny B working on Project E (duration 1s)\n",
            "Compagny A has completed Project A\n",
            "Compagny B has completed Project E\n",
            "Compagny A working on Project B (duration 3s)\n",
            "Compagny B working on Project F (duration 1s)\n",
            "Compagny B has completed Project F\n",
            "Compagny A has completed Project B\n",
            "Compagny A working on Project C (duration 2s)\n",
            "Compagny A has completed Project C\n",
            "Compagny A minimum time possible:  10\n",
            "Compagny A working time:  12.539860963821411\n",
            "Compagny A waiting time:  0\n",
            "Compagny A total time:  12.539860963821411\n",
            "Compagny B minimum time possible:  6\n",
            "Compagny B working time:  8.39522409439087\n",
            "Compagny B waiting time:  0\n",
            "Compagny B total time:  8.39522409439087\n"
          ],
          "name": "stdout"
        }
      ]
    },
    {
      "cell_type": "markdown",
      "metadata": {
        "id": "wSnioeZrYBPS",
        "colab_type": "text"
      },
      "source": [
        "SCENARIO 2B: Simple Schedule with some tasks that needs collaboration"
      ]
    },
    {
      "cell_type": "code",
      "metadata": {
        "scrolled": false,
        "id": "q8P7iD28YBPS",
        "colab_type": "code",
        "colab": {},
        "outputId": "1007ed29-cec9-4aeb-e9a2-dc5bbac30be5"
      },
      "source": [
        "Company_A = Company_with_a_lock(\"Company A\",threading.Lock());\n",
        "Company_B = Company_with_a_lock(\"Company B\",threading.Lock());\n",
        "\n",
        "Company_A_TASKS = [\n",
        "    Task(\"Project A\"),\n",
        "    Task(\"Project B\",help_=Company_B),\n",
        "    Task(\"Project C\"),\n",
        "]\n",
        "Company_B_TASKS = [\n",
        "    Task(\"Project D\"),\n",
        "    Task(\"Project E\"),\n",
        "    Task(\"Project F\",help_=Company_A),\n",
        "]\n",
        "\n",
        "Company_A.set_schedule(Company_A_TASKS);\n",
        "Company_B.set_schedule(Company_B_TASKS);\n",
        "\n",
        "Company_A.start();\n",
        "Company_B.start();\n",
        "\n",
        "Company_A.join()\n",
        "Company_B.join()\n",
        "\n",
        "print('Company A minimum time possible: ',sum([task.get_duration() for task in Company_A.schedule])+sum([task.get_duration() for task in Company_B.schedule if task.help is Company_A]))\n",
        "print('Company A working time: ',Company_A.duration-Company_A.time_waiting)\n",
        "print('Company A waiting time: ',Company_A.time_waiting)\n",
        "print('Company A total time: ',Company_A.duration)\n",
        "print('Company B minimum time possible: ',sum([task.get_duration() for task in Company_B.schedule])+sum([task.get_duration() for task in Company_A.schedule if task.help is Company_B]))\n",
        "print('Company B working time: ',Company_B.duration-Company_B.time_waiting)\n",
        "print('Company B waiting time: ',Company_B.time_waiting)\n",
        "print('Company B total time: ',Company_B.duration)"
      ],
      "execution_count": null,
      "outputs": [
        {
          "output_type": "stream",
          "text": [
            "Compagny A working on Project A (duration 4s)\n",
            "Compagny B working on Project D (duration 1s)\n",
            "Compagny B has completed Project D\n",
            "Compagny B working on Project E (duration 1s)\n",
            "Compagny B has completed Project E\n",
            "Compagny A has completed Project A\n",
            "Compagny A working on Project F (duration 4s)\n",
            "Compagny B working on Project F (duration 4s)\n",
            "Compagny B has completed Project FCompagny A has completed Project F\n",
            "\n",
            "Compagny B working on Project B (duration 4s)\n",
            "Compagny A working on Project B (duration 4s)\n",
            "Compagny B has completed Project BCompagny A has completed Project B\n",
            "\n"
          ],
          "name": "stdout"
        }
      ]
    },
    {
      "cell_type": "markdown",
      "metadata": {
        "id": "xlGytTjgYBPV",
        "colab_type": "text"
      },
      "source": [
        "### Computing time loss per scenario"
      ]
    },
    {
      "cell_type": "markdown",
      "metadata": {
        "id": "Ot6V9P1CYBPV",
        "colab_type": "text"
      },
      "source": [
        "#### Scenario 1B"
      ]
    },
    {
      "cell_type": "code",
      "metadata": {
        "scrolled": true,
        "id": "_eNEulaHYBPV",
        "colab_type": "code",
        "colab": {}
      },
      "source": [
        "import numpy  as np\n",
        "\n",
        "time_losses = []\n",
        "time_losses_perc = []\n",
        "for i in range(0,10):\n",
        "    print('iteration',i,'\\n\\n')\n",
        "    Company_A_TASKS = [\n",
        "        Task(\"Project A\"),\n",
        "        Task(\"Project B\"),\n",
        "        Task(\"Project C\"),\n",
        "    ]\n",
        "    Company_B_TASKS = [\n",
        "        Task(\"Project D\"),\n",
        "        Task(\"Project E\"),\n",
        "        Task(\"Project F\"),\n",
        "    ]\n",
        "\n",
        "    Company_A = Company_without_a_lock(\"Company A\");Company_A.set_schedule(Company_A_TASKS);\n",
        "    Company_B = Company_without_a_lock(\"Company B\");Company_B.set_schedule(Company_B_TASKS);\n",
        "\n",
        "    Company_A.start();\n",
        "    Company_B.start();\n",
        "\n",
        "    Company_A.join()\n",
        "    Company_B.join()\n",
        "    \n",
        "    min_a = sum([task.get_duration() for task in Company_A.schedule])+sum([task.get_duration() for task in Company_B.schedule if task.help is Company_A])\n",
        "    min_b = sum([task.get_duration() for task in Company_B.schedule])+sum([task.get_duration() for task in Company_A.schedule if task.help is Company_B])\n",
        "    time_losses.append(Company_A.duration-min_a)\n",
        "    time_losses.append(Company_B.duration-min_b)\n",
        "    time_losses_perc.append(100*(Company_A.duration/min_a))\n",
        "    time_losses_perc.append(100*(Company_B.duration/min_b))\n",
        "    \n",
        "mean_loss = np.mean(time_losses)\n",
        "mean_loss_p = np.mean(time_losses_perc)\n",
        "print(\"Mean time lost: \",mean_loss,\"s\")\n",
        "print(\"Mean time spent: \",str(mean_loss_p)[:5],\"% of minimum time\")"
      ],
      "execution_count": null,
      "outputs": []
    },
    {
      "cell_type": "markdown",
      "metadata": {
        "id": "nzn_16riYBPY",
        "colab_type": "text"
      },
      "source": [
        "#### Scenario 1B"
      ]
    },
    {
      "cell_type": "code",
      "metadata": {
        "id": "AM5i3i-mYBPY",
        "colab_type": "code",
        "colab": {}
      },
      "source": [
        "import numpy  as np\n",
        "\n",
        "time_losses = []\n",
        "time_losses_perc = []\n",
        "for i in range(0,10):\n",
        "    print('iteration',i,'\\n\\n')\n",
        "    Company_A = Company_without_a_lock(\"Company A\");\n",
        "    Company_B = Company_without_a_lock(\"Company B\");\n",
        "\n",
        "    Company_A_TASKS = [\n",
        "        Task(\"Project A\"),\n",
        "        Task(\"Project B\",help_=Company_B),\n",
        "        Task(\"Project C\"),\n",
        "    ]\n",
        "    Company_B_TASKS = [\n",
        "        Task(\"Project D\"),\n",
        "        Task(\"Project E\"),\n",
        "        Task(\"Project F\",help_=Company_A),\n",
        "    ]\n",
        "\n",
        "    Company_A.set_schedule(Company_A_TASKS);\n",
        "    Company_B.set_schedule(Company_B_TASKS);\n",
        "\n",
        "    Company_A.start();\n",
        "    Company_B.start();\n",
        "\n",
        "    Company_A.join()\n",
        "    Company_B.join()\n",
        "    \n",
        "mean_loss = np.mean(time_losses)\n",
        "mean_loss_p = np.mean(time_losses_perc)\n",
        "print(\"Mean time lost: \",mean_loss,\"s\")\n",
        "print(\"Mean time spent: \",str(mean_loss_p)[:5],\"% of minimum time\")"
      ],
      "execution_count": null,
      "outputs": []
    },
    {
      "cell_type": "markdown",
      "metadata": {
        "id": "y-CHmSQ7YBPa",
        "colab_type": "text"
      },
      "source": [
        "#### Scenario 2A"
      ]
    },
    {
      "cell_type": "code",
      "metadata": {
        "id": "tP8fO9d1YBPb",
        "colab_type": "code",
        "colab": {}
      },
      "source": [
        "import numpy  as np\n",
        "\n",
        "time_losses = []\n",
        "time_losses_perc = []\n",
        "for i in range(0,10):\n",
        "    print('iteration',i,'\\n\\n')\n",
        "    Company_A = Company_with_a_lock(\"Company A\",threading.Lock());\n",
        "    Company_B = Company_with_a_lock(\"Company B\",threading.Lock());\n",
        "\n",
        "    Company_A_TASKS = [\n",
        "        Task(\"Project A\"),\n",
        "        Task(\"Project B\"),\n",
        "        Task(\"Project C\"),\n",
        "    ]\n",
        "    Company_B_TASKS = [\n",
        "        Task(\"Project D\"),\n",
        "        Task(\"Project E\"),\n",
        "        Task(\"Project F\"),\n",
        "    ]\n",
        "\n",
        "    Company_A.set_schedule(Company_A_TASKS);\n",
        "    Company_B.set_schedule(Company_B_TASKS);\n",
        "\n",
        "    Company_A.start();\n",
        "    Company_B.start();\n",
        "\n",
        "    Company_A.join()\n",
        "    Company_B.join()\n",
        "    \n",
        "mean_loss = np.mean(time_losses)\n",
        "mean_loss_p = np.mean(time_losses_perc)\n",
        "print(\"Mean time lost: \",mean_loss,\"s\")\n",
        "print(\"Mean time spent: \",str(mean_loss_p)[:5],\"% of minimum time\")"
      ],
      "execution_count": null,
      "outputs": []
    },
    {
      "cell_type": "markdown",
      "metadata": {
        "id": "-bKVwvswYBPd",
        "colab_type": "text"
      },
      "source": [
        "#### Scenario 1B"
      ]
    },
    {
      "cell_type": "code",
      "metadata": {
        "id": "KzYkFEkWYBPe",
        "colab_type": "code",
        "colab": {}
      },
      "source": [
        "import numpy  as np\n",
        "\n",
        "time_losses = []\n",
        "time_losses_perc = []\n",
        "for i in range(0,10):\n",
        "    print('iteration',i,'\\n\\n')\n",
        "    Company_A = Company_with_a_lock(\"Company A\",threading.Lock());\n",
        "    Company_B = Company_with_a_lock(\"Company B\",threading.Lock());\n",
        "\n",
        "    Company_A_TASKS = [\n",
        "        Task(\"Project A\"),\n",
        "        Task(\"Project B\",help_=Company_B),\n",
        "        Task(\"Project C\"),\n",
        "    ]\n",
        "    Company_B_TASKS = [\n",
        "        Task(\"Project D\"),\n",
        "        Task(\"Project E\"),\n",
        "        Task(\"Project F\",help_=Company_A),\n",
        "    ]\n",
        "\n",
        "    Company_A.set_schedule(Company_A_TASKS);\n",
        "    Company_B.set_schedule(Company_B_TASKS);\n",
        "\n",
        "    Company_A.start();\n",
        "    Company_B.start();\n",
        "\n",
        "    Company_A.join()\n",
        "    Company_B.join()\n",
        "    \n",
        "mean_loss = np.mean(time_losses)\n",
        "mean_loss_p = np.mean(time_losses_perc)\n",
        "print(\"Mean time lost: \",mean_loss,\"s\")\n",
        "print(\"Mean time spent: \",str(mean_loss_p)[:5],\"% of minimum time\")"
      ],
      "execution_count": null,
      "outputs": []
    },
    {
      "cell_type": "markdown",
      "metadata": {
        "id": "iabwJ9ZSYBPg",
        "colab_type": "text"
      },
      "source": [
        "## Excercice"
      ]
    },
    {
      "cell_type": "markdown",
      "metadata": {
        "id": "VS6PxY_jYBPg",
        "colab_type": "text"
      },
      "source": [
        "Figure out how to achieve synchronisation between compagnies using semaphores"
      ]
    },
    {
      "cell_type": "code",
      "metadata": {
        "id": "MKqj8XS-YBPh",
        "colab_type": "code",
        "colab": {}
      },
      "source": [
        ""
      ],
      "execution_count": null,
      "outputs": []
    }
  ]
}